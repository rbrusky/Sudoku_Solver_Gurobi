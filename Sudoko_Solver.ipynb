{
 "cells": [
  {
   "cell_type": "code",
   "execution_count": null,
   "metadata": {
    "collapsed": false
   },
   "outputs": [],
   "source": [
    "from gurobipy import *\n",
    "from itertools import product"
   ]
  },
  {
   "cell_type": "code",
   "execution_count": null,
   "metadata": {
    "collapsed": true
   },
   "outputs": [],
   "source": [
    "def printSolution(m):\n",
    "    line = \" ||-----|-----|-----||-----|-----|-----||-----|-----|-----||\"\n",
    "    boldline = \" ||=======================================================||\"\n",
    "    print \"\\n\",boldline\n",
    "    position = 0\n",
    "    row = 0\n",
    "    #print '\\nOptimal flows:'\n",
    "    for v in m.getVars():\n",
    "        if v.X > 0:\n",
    "            if position % 3 == 0:\n",
    "                print \" || \",\n",
    "            else:\n",
    "                print \" | \",\n",
    "            print int(v.VarName[3]),\n",
    "            position +=1\n",
    "            if position == 9:\n",
    "                position = 0\n",
    "                print \" || \"\n",
    "                row += 1\n",
    "                if row %3 == 0:\n",
    "                    print boldline\n",
    "                else:\n",
    "                    print line"
   ]
  },
  {
   "cell_type": "code",
   "execution_count": null,
   "metadata": {
    "collapsed": true
   },
   "outputs": [],
   "source": [
    "def printPuzzle(s):\n",
    "    line = \" ||-----|-----|-----||-----|-----|-----||-----|-----|-----||\"\n",
    "    boldline = \" ||=======================================================||\"\n",
    "    print \"\\n\",boldline\n",
    "    position = 0\n",
    "    row = 0\n",
    "    #print '\\nOptimal flows:'\n",
    "    for num in s:\n",
    "        if num == \"-\":\n",
    "            num = \" \"\n",
    "        if position % 3 == 0:\n",
    "            print \" || \",\n",
    "        else:\n",
    "            print \" | \",\n",
    "        print num,\n",
    "        position +=1\n",
    "        if position == 9:\n",
    "            position = 0\n",
    "            print \" || \"\n",
    "            row += 1\n",
    "            if row %3 == 0:\n",
    "                print boldline\n",
    "            else:\n",
    "                print line"
   ]
  },
  {
   "cell_type": "markdown",
   "metadata": {},
   "source": [
    "## The make_boxes creates the representation of the 9 \"big\" boxes in the \n",
    "## puzzle, numbered like a tic-tac-toe grid.  Each \"big\" boxes has 9 cells. \n",
    "!['big_boxes'](big_boxes.png)\n",
    "### For example, box 4 has these 9 (i,j) cells (where i = row and j = column):\n",
    "### [(4, 1), (4, 2), (4, 3), (5, 1), (5, 2), (5, 3), (6, 1), (6, 2), (6, 3)]"
   ]
  },
  {
   "cell_type": "code",
   "execution_count": null,
   "metadata": {
    "collapsed": true
   },
   "outputs": [],
   "source": [
    "def make_boxes():\n",
    "    box = {}\n",
    "    boxn = 1\n",
    "    lev = [[1,2,3],[4,5,6],[7,8,9]]\n",
    "    for i in range(3):\n",
    "        for j in range(3):\n",
    "            box[boxn] = list(product(lev[i],lev[j]))\n",
    "            boxn += 1\n",
    "    return box"
   ]
  },
  {
   "cell_type": "code",
   "execution_count": null,
   "metadata": {
    "collapsed": false
   },
   "outputs": [],
   "source": []
  },
  {
   "cell_type": "code",
   "execution_count": null,
   "metadata": {
    "collapsed": true
   },
   "outputs": [],
   "source": []
  },
  {
   "cell_type": "code",
   "execution_count": null,
   "metadata": {
    "collapsed": false
   },
   "outputs": [],
   "source": [
    "# The puzzle examples\n",
    "\n",
    "def get_puzzle(p):\n",
    "\n",
    "    if p == 1:\n",
    "        return (\"-8--9--6-\"\n",
    "                \"-7-----5-\"\n",
    "                \"--35-71--\"\n",
    "                \"85--1--29\"\n",
    "                \"---------\"\n",
    "                \"13--2--76\"\n",
    "                \"--81-47--\"\n",
    "                \"-1-----3-\"\n",
    "                \"-2--8--1-\")\n",
    "    elif p == 2:\n",
    "        return (\"72--39--6\"\n",
    "                \"----5-3-1\"\n",
    "                \"-----7--5\"\n",
    "                \"------1--\"\n",
    "                \"9-6-----2\"\n",
    "                \"-3----5--\"\n",
    "                \"37---48--\"\n",
    "                \"6-897--3-\"\n",
    "                \"5--------\")\n",
    "    elif p == 3:\n",
    "        return (\"8-9-73562\"\n",
    "                \"37-5694--\"\n",
    "                \"654182-9-\"\n",
    "                \"----5---9\"\n",
    "                \"7-12-8--4\"\n",
    "                \"-35--1-7-\"\n",
    "                \"187-4--25\"\n",
    "                \"54-927816\"\n",
    "                \"-2681-7-3\")\n",
    "    elif p == 4:\n",
    "        return (\"2935-4---\"\n",
    "                \"---3-7-95\"\n",
    "                \"5------8-\"\n",
    "                \"--58---3-\"\n",
    "                \"1---4-8--\"\n",
    "                \"42895361-\"\n",
    "                \"74----5-1\"\n",
    "                \"---1--9--\"\n",
    "                \"85-429---\")\n",
    "    elif p == 5:\n",
    "        return (\"-2-6795--\"\n",
    "                \"--7-18-9-\"\n",
    "                \"----2-17-\"\n",
    "                \"--8-4--6-\"\n",
    "                \"----5----\"\n",
    "                \"-6--9-8--\"\n",
    "                \"-74-6----\"\n",
    "                \"-1-53-9--\"\n",
    "                \"--2784-1-\")\n",
    "\n",
    "\n",
    "    elif p == 98:\n",
    "        return (\"123456789\"\n",
    "                \"---------\"\n",
    "                \"---------\"\n",
    "                \"---------\"\n",
    "                \"---------\"\n",
    "                \"---------\"\n",
    "                \"---------\"\n",
    "                \"---------\"\n",
    "                \"---------\")\n",
    "    elif p == 99:\n",
    "        return (\"1--------\"\n",
    "                \"-2-------\"\n",
    "                \"--3------\"\n",
    "                \"---4-----\"\n",
    "                \"----5----\"\n",
    "                \"-----6---\"\n",
    "                \"------7--\"\n",
    "                \"-------8-\"\n",
    "                \"--------9\")\n",
    "\n",
    "\n",
    "    elif p == \"bad\":\n",
    "        return (\"77-3-1--8\"\n",
    "                \"--64-85--\"\n",
    "                \"-4--2--6-\"\n",
    "                \"---------\"\n",
    "                \"4-------1\"\n",
    "                \"517---284\"\n",
    "                \"2--7-6--3\"\n",
    "                \"631---475\"\n",
    "                \"----4----\")\n",
    "    else:\n",
    "        return (\"7--3-1--8\"\n",
    "                \"--64-85--\"\n",
    "                \"-4--2--6-\"\n",
    "                \"---------\"\n",
    "                \"4-------1\"\n",
    "                \"517---284\"\n",
    "                \"2--7-6--3\"\n",
    "                \"631---475\"\n",
    "                \"----4----\")"
   ]
  },
  {
   "cell_type": "code",
   "execution_count": null,
   "metadata": {
    "collapsed": false
   },
   "outputs": [],
   "source": []
  },
  {
   "cell_type": "code",
   "execution_count": null,
   "metadata": {
    "collapsed": false
   },
   "outputs": [],
   "source": []
  },
  {
   "cell_type": "code",
   "execution_count": null,
   "metadata": {
    "collapsed": false
   },
   "outputs": [],
   "source": [
    "def solve(s, detail):\n",
    "    n = 9\n",
    "    vals = range(1,n+1) # [1,2,3,4,5,6,7,8,9]\n",
    "    boxes = make_boxes()\n",
    "    \n",
    "    # variable description: There are 9^3 (729) variables.\n",
    "    # x[row,col,digit] = 1  if part of the solution\n",
    "    #                  = 0  otherwise\n",
    "    #\n",
    "    # example:\n",
    "    # x[2,4,7] = 1  Means row 2, col 3 is a 7.\n",
    "    # x[2,4,7] = 0  Means row 2, col 3 is NOT a 7.\n",
    "    \n",
    "    # Create optimization model\n",
    "    m = Model('Sudoku')\n",
    "    m.setParam('OutputFlag', detail)\n",
    "    \n",
    "    # define the variables \n",
    "    x = {}\n",
    "    for i in vals:\n",
    "        for j in vals:\n",
    "            for k in vals:\n",
    "                x[i,j,k] = m.addVar(obj=0,vtype=GRB.BINARY,name='x%d%d%d' % (i,j,k))\n",
    "    m.update()\n",
    "\n",
    "    #Set up constraints\n",
    "    \n",
    "    # in each row, each number is used only once\n",
    "    for i in vals:\n",
    "        for k in vals:\n",
    "            m.addConstr(quicksum([x[i,j,k] for j in vals]) == 1, 'row%d%d' % (i,k))\n",
    "\n",
    "    # in each column, each number is used only once\n",
    "    for j in vals:\n",
    "        for k in vals:\n",
    "            m.addConstr(quicksum([x[i,j,k] for i in vals]) == 1, 'col%d%d' % (j,k))\n",
    "\n",
    "    # in each \"big\" box, each number is used only once\n",
    "    for b in boxes:\n",
    "        for k in vals:\n",
    "            m.addConstr(quicksum([x[i,j,k] for (i,j) in boxes[b]]) == 1, 'box%d%d' % (b,k))\n",
    "    \n",
    "    # each \"little\" box must have a number in it\n",
    "    for i in vals:\n",
    "        for j in vals:\n",
    "            m.addConstr(quicksum([x[i,j,k] for k in vals]) == 1, 'cell%d%d%d' % (i,j,k))\n",
    "\n",
    "    # Hard set the values that are known\n",
    "    c = 0\n",
    "    for i in vals:\n",
    "        for j in vals:\n",
    "            if s[c] != '-':\n",
    "                p = int(s[c])\n",
    "                for k in vals:\n",
    "                    if k == p:\n",
    "                        m.addConstr(x[i,j,k] == 1, 'init%d%d%d' % (i,j,k))\n",
    "            c += 1\n",
    "\n",
    "    # Compute optimal solution\n",
    "    m.optimize()\n",
    "\n",
    "    m.write('sudoku.lp')    \n",
    "\n",
    "    if m.status == GRB.status.OPTIMAL:\n",
    "        printSolution(m)\n",
    "    else:\n",
    "        print 'Bummer no solution, status code:',m.status\n",
    "    \n",
    "    if detail:    \n",
    "        print('m.getVars()',m.getVars())\n",
    "    \n",
    "    return m"
   ]
  },
  {
   "cell_type": "code",
   "execution_count": null,
   "metadata": {
    "collapsed": false
   },
   "outputs": [],
   "source": [
    "puzzle = get_puzzle(1)\n",
    "printPuzzle(puzzle)"
   ]
  },
  {
   "cell_type": "code",
   "execution_count": null,
   "metadata": {
    "collapsed": false,
    "scrolled": false
   },
   "outputs": [],
   "source": [
    "detail = False\n",
    "m = solve(puzzle,detail)"
   ]
  },
  {
   "cell_type": "code",
   "execution_count": null,
   "metadata": {
    "collapsed": true
   },
   "outputs": [],
   "source": []
  }
 ],
 "metadata": {
  "kernelspec": {
   "display_name": "Python 2",
   "language": "python",
   "name": "python2"
  },
  "language_info": {
   "codemirror_mode": {
    "name": "ipython",
    "version": 2
   },
   "file_extension": ".py",
   "mimetype": "text/x-python",
   "name": "python",
   "nbconvert_exporter": "python",
   "pygments_lexer": "ipython2",
   "version": "2.7.12"
  }
 },
 "nbformat": 4,
 "nbformat_minor": 0
}
